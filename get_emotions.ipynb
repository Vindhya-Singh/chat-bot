{
 "cells": [
  {
   "cell_type": "code",
   "execution_count": 1,
   "metadata": {},
   "outputs": [],
   "source": [
    "import pandas as pd\n",
    "import json\n"
   ]
  },
  {
   "cell_type": "code",
   "execution_count": null,
   "metadata": {},
   "outputs": [],
   "source": [
    "results_folder = f'/projects/humansVsLLMs/results_run1'\n",
    "chatbot_experiment = '2_jap'\n",
    "with open(results_folder + f'/data_{chatbot_experiment}.json', 'r') as f:\n",
    "    all_data = json.load(f)\n",
    "participants = all_data['participants']"
   ]
  },
  {
   "cell_type": "code",
   "execution_count": null,
   "metadata": {},
   "outputs": [],
   "source": [
    "all_keys = set().union(*(d.keys() for d in participants[11]['answers']))\n",
    "all_keys\n"
   ]
  },
  {
   "cell_type": "code",
   "execution_count": null,
   "metadata": {},
   "outputs": [],
   "source": [
    "answer = participants[11]['answers']\n",
    "for ans in answer:\n",
    "    for k,v in ans.items():\n",
    "        if v in emotions_qids:\n",
    "            print(ans[\"stageName\"])\n",
    "            print(ans[\"stageDay\"])\n",
    "            print(ans[\"answer\"])"
   ]
  },
  {
   "cell_type": "code",
   "execution_count": 16,
   "metadata": {},
   "outputs": [],
   "source": [
    "emotions_qids = ['Pre-Reflection.listlessOrEnergetic',\n",
    "                 'Pre-Reflection.relaxedOrAngry',\n",
    "                 'Pre-Reflection.boredOrEnthusiastic',\n",
    "                 'Pre-Reflection.calmOrNervous',\n",
    "                 'Pre-Reflection.happyOrUnhappy',\n",
    "                #  'Int-Reflection.relEmotions',\n",
    "                #  'Int-Reflection.relImpact',\n",
    "                #  'Int-Reflection.day1RelPursuit',\n",
    "                #  'Int-Reflection.day1RelRelevance', \n",
    "                 ]\n",
    "prolific_ids = []\n",
    "unique_ids = []\n",
    "stage_names = []\n",
    "stage_days = []\n",
    "emotions = []\n",
    "emotions_classes = []\n",
    "# listlessOrEnergetic_emotions = []\n",
    "# relaxedOrAngry_emotions = []\n",
    "# boredOrEnthusiastic_emotions = []\n",
    "# calmOrNervous_emotions = []\n",
    "# happyOrUnhappy_emotions = []\n",
    "relEmotions = []\n",
    "relImpacts =[]\n",
    "day1RelPursuits = []\n",
    "day1RelRelevances = []\n",
    "  \n",
    "for part in range(len(participants)):\n",
    "    prolific_id = participants[part]['parameters']['company']\n",
    "    unique_id = participants[part]['uniqueId']\n",
    "    answer = participants[part]['answers']\n",
    "    for ans in answer:\n",
    "        for k,v in ans.items():\n",
    "            if v in emotions_qids:\n",
    "                stage_name = ans[\"stageName\"]\n",
    "                stageDay = ans[\"stageDay\"]\n",
    "                emotion = ans[\"answer\"]\n",
    "                emotion_class = v\n",
    "                \n",
    "                stage_names.append(stage_name)\n",
    "                stage_days.append(stageDay)\n",
    "                emotions.append(emotion)\n",
    "                prolific_ids.append(prolific_id)\n",
    "                unique_ids.append(unique_id)\n",
    "                emotions_classes.append(emotion_class)\n",
    "        \n"
   ]
  },
  {
   "cell_type": "code",
   "execution_count": null,
   "metadata": {},
   "outputs": [],
   "source": [
    "df_new = pd.DataFrame({'uniqueId':unique_ids,\n",
    "                       \"Prolific_Ids\":prolific_ids,\n",
    "                       \"Stage_Name\":stage_names,\n",
    "                       \"Stage_day\":stage_days,\n",
    "                       \"Emotions\":emotions,\n",
    "                       \"Emotion_Type\": emotions_classes})\n",
    "df_new.head(7)"
   ]
  },
  {
   "cell_type": "code",
   "execution_count": 18,
   "metadata": {},
   "outputs": [],
   "source": [
    "df_new.to_csv(f'emotions_new_{chatbot_experiment}.csv', index=False)"
   ]
  },
  {
   "cell_type": "code",
   "execution_count": null,
   "metadata": {},
   "outputs": [],
   "source": [
    "df_new.shape"
   ]
  }
 ],
 "metadata": {
  "kernelspec": {
   "display_name": "Python 3",
   "language": "python",
   "name": "python3"
  },
  "language_info": {
   "codemirror_mode": {
    "name": "ipython",
    "version": 3
   },
   "file_extension": ".py",
   "mimetype": "text/x-python",
   "name": "python",
   "nbconvert_exporter": "python",
   "pygments_lexer": "ipython3",
   "version": "3.10.12"
  }
 },
 "nbformat": 4,
 "nbformat_minor": 2
}
